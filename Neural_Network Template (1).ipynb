{
 "cells": [
  {
   "cell_type": "markdown",
   "metadata": {},
   "source": [
    "![Houses](https://cdn12.picryl.com/photo/2016/12/31/painted-ladies-houses-san-francisco-architecture-buildings-2efc18-1024.jpg)\n",
    "# House Median Price Prediction\n",
    "### Using Deep Neural Networks\n",
    "\n",
    "### Program Description\n",
    "This program predicts if the price of a house will be above the median price or not based off of it's features.\n",
    "\n",
    "### About Neural Networks\n",
    "Artificial neural networks (ANN) or connectionist systems are computing systems that are inspired by, but not necessarily identical to, the biological neural networks that constitute animal brains. Such systems \"learn\" to perform tasks by considering examples, generally without being programmed with any task-specific rules. Deep Neural networs are just ANN's with multiple hidden layers."
   ]
  },
  {
   "cell_type": "code",
   "execution_count": null,
   "metadata": {},
   "outputs": [],
   "source": [
    "# Q.import the dependencies   (1 marks)\n",
    "\n",
    "## Start code here\n",
    "\n",
    "## End code here"
   ]
  },
  {
   "cell_type": "code",
   "execution_count": null,
   "metadata": {},
   "outputs": [],
   "source": [
    "# Q. Load the data set  (1 marks)\n",
    "\n",
    "## Start code here\n",
    "\n",
    "## End code here"
   ]
  },
  {
   "cell_type": "code",
   "execution_count": null,
   "metadata": {},
   "outputs": [],
   "source": [
    "# Q. Look at the data first 7 rows of data  (1 marks)\n",
    "\n",
    "## Start code here\n",
    "\n",
    "## End code here"
   ]
  },
  {
   "cell_type": "code",
   "execution_count": null,
   "metadata": {},
   "outputs": [],
   "source": [
    "# Q. Convert the data into an array (2 marks)\n",
    "\n",
    "## Start code here\n",
    "\n",
    "## End code here"
   ]
  },
  {
   "cell_type": "code",
   "execution_count": null,
   "metadata": {},
   "outputs": [],
   "source": [
    "# Q. Split the data set into X & Y where X = (:,0:10) & Y = (:,10) (2 marks)\n",
    "\n",
    "## Start code here\n",
    "\n",
    "## End code here"
   ]
  },
  {
   "cell_type": "code",
   "execution_count": null,
   "metadata": {},
   "outputs": [],
   "source": [
    "# Q. Use the min-max scaler method  to scales the dataset so that all the input features lie between 0 and 1 inclusive (2 marks)\n",
    "\n",
    "## Start code here\n",
    "\n",
    "## End code here"
   ]
  },
  {
   "cell_type": "code",
   "execution_count": null,
   "metadata": {},
   "outputs": [],
   "source": [
    "# Q. Split the data into 80% training and 20% (testing (10%) and validation (10%)) and print it (3 marks)\n",
    "\n",
    "## Start code here\n",
    "\n",
    "## End code here"
   ]
  },
  {
   "cell_type": "code",
   "execution_count": null,
   "metadata": {},
   "outputs": [],
   "source": [
    "#Build the model and architecture of the deep neural network\n",
    "\n",
    "# Start code here\n",
    "from keras.models import Sequential\n",
    "from keras.layers import Dense\n",
    "\n",
    "# The models architechture 4 layers, 3 with 32 neurons and activation function = relu function, \n",
    "# the last layer has 1 neuron with an activation function = sigmoid function which returns a value btwn 0 and 1\n",
    "# The input shape/ input_dim = 10 the number of features in the data set\n",
    "model = Sequential([\n",
    "    Dense(32, activation='relu', input_shape=(10,)),\n",
    "    Dense(32, activation='relu'),\n",
    "    Dense(32, activation='relu'),\n",
    "    Dense(1, activation='sigmoid')\n",
    "])\n",
    "# End code "
   ]
  },
  {
   "cell_type": "code",
   "execution_count": null,
   "metadata": {},
   "outputs": [],
   "source": [
    "# Q. loss measuers how well the model did on training , and then tries to improve on it using the optimizer\n",
    "\n",
    "## Start code here\n",
    "model.compile(optimizer='sgd',\n",
    "              loss='binary_crossentropy',\n",
    "              metrics=['accuracy'])\n",
    "## End code here"
   ]
  },
  {
   "cell_type": "code",
   "execution_count": null,
   "metadata": {},
   "outputs": [],
   "source": [
    "# Q. Train the model (3 marks)\n",
    "\n",
    "## Start code here\n",
    "\n",
    "## End code here"
   ]
  },
  {
   "cell_type": "code",
   "execution_count": null,
   "metadata": {},
   "outputs": [],
   "source": [
    "# Q. Evalutae the model (2 marks)\n",
    "\n",
    "## Start code here\n",
    "\n",
    "## End code here"
   ]
  },
  {
   "cell_type": "code",
   "execution_count": null,
   "metadata": {},
   "outputs": [],
   "source": [
    "# Q. Make a prediction (3 marks)\n",
    "\n",
    "## Start code here\n",
    "\n",
    "## End code here"
   ]
  },
  {
   "cell_type": "code",
   "execution_count": null,
   "metadata": {},
   "outputs": [],
   "source": [
    "# Q. visualize the training loss and the validation loss to see if the model is overfitting  (5 marks)\n",
    "\n",
    "## Start code here\n",
    "\n",
    "## End code here"
   ]
  },
  {
   "cell_type": "code",
   "execution_count": null,
   "metadata": {},
   "outputs": [],
   "source": [
    "# Q. visualize the training accuracy and the validation accuracy to see if the model is overfitting  (5 marks)\n",
    "  \n",
    "## Start code here\n",
    "\n",
    "## End code here"
   ]
  }
 ],
 "metadata": {
  "kernelspec": {
   "display_name": "Python 3",
   "language": "python",
   "name": "python3"
  },
  "language_info": {
   "codemirror_mode": {
    "name": "ipython",
    "version": 3
   },
   "file_extension": ".py",
   "mimetype": "text/x-python",
   "name": "python",
   "nbconvert_exporter": "python",
   "pygments_lexer": "ipython3",
   "version": "3.7.6"
  }
 },
 "nbformat": 4,
 "nbformat_minor": 4
}
