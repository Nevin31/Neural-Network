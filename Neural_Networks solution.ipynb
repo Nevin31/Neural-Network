{
 "cells": [
  {
   "cell_type": "code",
   "execution_count": 1,
   "metadata": {
    "colab": {
     "base_uri": "https://localhost:8080/",
     "height": 54
    },
    "colab_type": "code",
    "id": "P6DJmuF0wD0L",
    "outputId": "dbb9ef50-e23a-4ecb-9306-22b772bbbb05"
   },
   "outputs": [
    {
     "name": "stdout",
     "output_type": "stream",
     "text": [
      "Drive already mounted at /content/drive; to attempt to forcibly remount, call drive.mount(\"/content/drive\", force_remount=True).\n"
     ]
    }
   ],
   "source": [
    "from google.colab import drive\n",
    "drive.mount('/content/drive')"
   ]
  },
  {
   "cell_type": "code",
   "execution_count": 2,
   "metadata": {
    "colab": {
     "base_uri": "https://localhost:8080/",
     "height": 34
    },
    "colab_type": "code",
    "id": "l8h9piiHwULJ",
    "outputId": "c50f68d3-a88e-4012-be88-5dabd7dd8af4"
   },
   "outputs": [
    {
     "name": "stdout",
     "output_type": "stream",
     "text": [
      "/content/drive/My Drive/Colab Notebooks/Neural Network\n"
     ]
    }
   ],
   "source": [
    "cd drive/My Drive/Colab Notebooks/Neural Network"
   ]
  },
  {
   "cell_type": "code",
   "execution_count": 3,
   "metadata": {
    "colab": {
     "base_uri": "https://localhost:8080/",
     "height": 34
    },
    "colab_type": "code",
    "id": "RDvklnnOwSZ7",
    "outputId": "fc1d83e4-adf0-428f-a2c8-e1599b21d9a6"
   },
   "outputs": [
    {
     "name": "stdout",
     "output_type": "stream",
     "text": [
      "housepricedata.csv  Neural_Networks.ipynb\n"
     ]
    }
   ],
   "source": [
    "%ls"
   ]
  },
  {
   "cell_type": "markdown",
   "metadata": {
    "colab_type": "text",
    "id": "p_UN7AMsdTWf"
   },
   "source": [
    "![Houses](https://cdn12.picryl.com/photo/2016/12/31/painted-ladies-houses-san-francisco-architecture-buildings-2efc18-1024.jpg)\n",
    "# House Median Price Prediction\n",
    "### Using Deep Neural Networks\n",
    "\n",
    "### Program Description\n",
    "This program predicts if the price of a house will be above the median price or not based off of it's features.\n",
    "\n",
    "### About Neural Networks\n",
    "Artificial neural networks (ANN) or connectionist systems are computing systems that are inspired by, but not necessarily identical to, the biological neural networks that constitute animal brains. Such systems \"learn\" to perform tasks by considering examples, generally without being programmed with any task-specific rules. Deep Neural networs are just ANN's with multiple hidden layers."
   ]
  },
  {
   "cell_type": "code",
   "execution_count": 4,
   "metadata": {
    "colab": {
     "base_uri": "https://localhost:8080/",
     "height": 34
    },
    "colab_type": "code",
    "id": "tpVWIrlZazJP",
    "outputId": "dedcc3ab-bdf1-425f-ccfb-a6deb452e2a7"
   },
   "outputs": [
    {
     "name": "stderr",
     "output_type": "stream",
     "text": [
      "Using TensorFlow backend.\n"
     ]
    }
   ],
   "source": [
    "#import the dependencies\n",
    "import pandas as pd\n",
    "from keras.models import Sequential\n",
    "from keras.layers import Dense\n",
    "from sklearn.model_selection import train_test_split\n",
    "import matplotlib.pyplot as plt"
   ]
  },
  {
   "cell_type": "code",
   "execution_count": 0,
   "metadata": {
    "colab": {},
    "colab_type": "code",
    "id": "s8Uf1NyMsTtP"
   },
   "outputs": [],
   "source": [
    "#Load the data set\n",
    "df = pd.read_csv('housepricedata.csv')"
   ]
  },
  {
   "cell_type": "code",
   "execution_count": 6,
   "metadata": {
    "colab": {
     "base_uri": "https://localhost:8080/",
     "height": 286
    },
    "colab_type": "code",
    "id": "vYn84ufmuAub",
    "outputId": "5e823d07-8505-449a-800a-08bb8dd1a1ab"
   },
   "outputs": [
    {
     "data": {
      "text/html": [
       "<div>\n",
       "<style scoped>\n",
       "    .dataframe tbody tr th:only-of-type {\n",
       "        vertical-align: middle;\n",
       "    }\n",
       "\n",
       "    .dataframe tbody tr th {\n",
       "        vertical-align: top;\n",
       "    }\n",
       "\n",
       "    .dataframe thead th {\n",
       "        text-align: right;\n",
       "    }\n",
       "</style>\n",
       "<table border=\"1\" class=\"dataframe\">\n",
       "  <thead>\n",
       "    <tr style=\"text-align: right;\">\n",
       "      <th></th>\n",
       "      <th>LotArea</th>\n",
       "      <th>OverallQual</th>\n",
       "      <th>OverallCond</th>\n",
       "      <th>TotalBsmtSF</th>\n",
       "      <th>FullBath</th>\n",
       "      <th>HalfBath</th>\n",
       "      <th>BedroomAbvGr</th>\n",
       "      <th>TotRmsAbvGrd</th>\n",
       "      <th>Fireplaces</th>\n",
       "      <th>GarageArea</th>\n",
       "      <th>AboveMedianPrice</th>\n",
       "    </tr>\n",
       "  </thead>\n",
       "  <tbody>\n",
       "    <tr>\n",
       "      <th>0</th>\n",
       "      <td>8450</td>\n",
       "      <td>7</td>\n",
       "      <td>5</td>\n",
       "      <td>856</td>\n",
       "      <td>2</td>\n",
       "      <td>1</td>\n",
       "      <td>3</td>\n",
       "      <td>8</td>\n",
       "      <td>0</td>\n",
       "      <td>548</td>\n",
       "      <td>1</td>\n",
       "    </tr>\n",
       "    <tr>\n",
       "      <th>1</th>\n",
       "      <td>9600</td>\n",
       "      <td>6</td>\n",
       "      <td>8</td>\n",
       "      <td>1262</td>\n",
       "      <td>2</td>\n",
       "      <td>0</td>\n",
       "      <td>3</td>\n",
       "      <td>6</td>\n",
       "      <td>1</td>\n",
       "      <td>460</td>\n",
       "      <td>1</td>\n",
       "    </tr>\n",
       "    <tr>\n",
       "      <th>2</th>\n",
       "      <td>11250</td>\n",
       "      <td>7</td>\n",
       "      <td>5</td>\n",
       "      <td>920</td>\n",
       "      <td>2</td>\n",
       "      <td>1</td>\n",
       "      <td>3</td>\n",
       "      <td>6</td>\n",
       "      <td>1</td>\n",
       "      <td>608</td>\n",
       "      <td>1</td>\n",
       "    </tr>\n",
       "    <tr>\n",
       "      <th>3</th>\n",
       "      <td>9550</td>\n",
       "      <td>7</td>\n",
       "      <td>5</td>\n",
       "      <td>756</td>\n",
       "      <td>1</td>\n",
       "      <td>0</td>\n",
       "      <td>3</td>\n",
       "      <td>7</td>\n",
       "      <td>1</td>\n",
       "      <td>642</td>\n",
       "      <td>0</td>\n",
       "    </tr>\n",
       "    <tr>\n",
       "      <th>4</th>\n",
       "      <td>14260</td>\n",
       "      <td>8</td>\n",
       "      <td>5</td>\n",
       "      <td>1145</td>\n",
       "      <td>2</td>\n",
       "      <td>1</td>\n",
       "      <td>4</td>\n",
       "      <td>9</td>\n",
       "      <td>1</td>\n",
       "      <td>836</td>\n",
       "      <td>1</td>\n",
       "    </tr>\n",
       "    <tr>\n",
       "      <th>5</th>\n",
       "      <td>14115</td>\n",
       "      <td>5</td>\n",
       "      <td>5</td>\n",
       "      <td>796</td>\n",
       "      <td>1</td>\n",
       "      <td>1</td>\n",
       "      <td>1</td>\n",
       "      <td>5</td>\n",
       "      <td>0</td>\n",
       "      <td>480</td>\n",
       "      <td>0</td>\n",
       "    </tr>\n",
       "    <tr>\n",
       "      <th>6</th>\n",
       "      <td>10084</td>\n",
       "      <td>8</td>\n",
       "      <td>5</td>\n",
       "      <td>1686</td>\n",
       "      <td>2</td>\n",
       "      <td>0</td>\n",
       "      <td>3</td>\n",
       "      <td>7</td>\n",
       "      <td>1</td>\n",
       "      <td>636</td>\n",
       "      <td>1</td>\n",
       "    </tr>\n",
       "  </tbody>\n",
       "</table>\n",
       "</div>"
      ],
      "text/plain": [
       "   LotArea  OverallQual  OverallCond  ...  Fireplaces  GarageArea  AboveMedianPrice\n",
       "0     8450            7            5  ...           0         548                 1\n",
       "1     9600            6            8  ...           1         460                 1\n",
       "2    11250            7            5  ...           1         608                 1\n",
       "3     9550            7            5  ...           1         642                 0\n",
       "4    14260            8            5  ...           1         836                 1\n",
       "5    14115            5            5  ...           0         480                 0\n",
       "6    10084            8            5  ...           1         636                 1\n",
       "\n",
       "[7 rows x 11 columns]"
      ]
     },
     "execution_count": 6,
     "metadata": {
      "tags": []
     },
     "output_type": "execute_result"
    }
   ],
   "source": [
    "#Look at the data first 7 rows of data\n",
    "df.head(7)"
   ]
  },
  {
   "cell_type": "code",
   "execution_count": 7,
   "metadata": {
    "colab": {
     "base_uri": "https://localhost:8080/",
     "height": 136
    },
    "colab_type": "code",
    "id": "zlukoFjStifz",
    "outputId": "e3bcb9dd-2f2e-4cc9-af65-0119acf54547"
   },
   "outputs": [
    {
     "data": {
      "text/plain": [
       "array([[ 8450,     7,     5, ...,     0,   548,     1],\n",
       "       [ 9600,     6,     8, ...,     1,   460,     1],\n",
       "       [11250,     7,     5, ...,     1,   608,     1],\n",
       "       ...,\n",
       "       [ 9042,     7,     9, ...,     2,   252,     1],\n",
       "       [ 9717,     5,     6, ...,     0,   240,     0],\n",
       "       [ 9937,     5,     6, ...,     0,   276,     0]])"
      ]
     },
     "execution_count": 7,
     "metadata": {
      "tags": []
     },
     "output_type": "execute_result"
    }
   ],
   "source": [
    "#Convert the data into an array\n",
    "dataset = df.values\n",
    "dataset"
   ]
  },
  {
   "cell_type": "code",
   "execution_count": 0,
   "metadata": {
    "colab": {},
    "colab_type": "code",
    "id": "gnXZ9IxgTT5Y"
   },
   "outputs": [],
   "source": [
    "#Split the data set\n",
    "X = dataset[:,0:10]\n",
    "Y = dataset[:,10]"
   ]
  },
  {
   "cell_type": "code",
   "execution_count": 9,
   "metadata": {
    "colab": {
     "base_uri": "https://localhost:8080/",
     "height": 238
    },
    "colab_type": "code",
    "id": "j4JDp14yUK_u",
    "outputId": "d6968443-0f21-445f-ec24-beb588c2fbe9"
   },
   "outputs": [
    {
     "data": {
      "text/plain": [
       "array([[0.0334198 , 0.66666667, 0.5       , ..., 0.5       , 0.        ,\n",
       "        0.3864598 ],\n",
       "       [0.03879502, 0.55555556, 0.875     , ..., 0.33333333, 0.33333333,\n",
       "        0.32440056],\n",
       "       [0.04650728, 0.66666667, 0.5       , ..., 0.33333333, 0.33333333,\n",
       "        0.42877292],\n",
       "       ...,\n",
       "       [0.03618687, 0.66666667, 1.        , ..., 0.58333333, 0.66666667,\n",
       "        0.17771509],\n",
       "       [0.03934189, 0.44444444, 0.625     , ..., 0.25      , 0.        ,\n",
       "        0.16925247],\n",
       "       [0.04037019, 0.44444444, 0.625     , ..., 0.33333333, 0.        ,\n",
       "        0.19464034]])"
      ]
     },
     "execution_count": 9,
     "metadata": {
      "tags": []
     },
     "output_type": "execute_result"
    }
   ],
   "source": [
    "#the min-max scaler method scales the dataset so that all the input features lie between 0 and 1 inclusive\n",
    "from sklearn import preprocessing\n",
    "min_max_scaler = preprocessing.MinMaxScaler()\n",
    "X_scale = min_max_scaler.fit_transform(X)\n",
    "X_scale"
   ]
  },
  {
   "cell_type": "code",
   "execution_count": 10,
   "metadata": {
    "colab": {
     "base_uri": "https://localhost:8080/",
     "height": 34
    },
    "colab_type": "code",
    "id": "EwftF_DsUXJ9",
    "outputId": "4b5e211c-8ba9-456b-8f6b-40ed4e068cfc"
   },
   "outputs": [
    {
     "name": "stdout",
     "output_type": "stream",
     "text": [
      "(1168, 10) (146, 10) (146, 10) (1168,) (146,) (146,)\n"
     ]
    }
   ],
   "source": [
    "#Split the data into 80% training and 20% (testing (10%) and validation (10%))\n",
    "from sklearn.model_selection import train_test_split\n",
    "X_train, X_val_and_test, Y_train, Y_val_and_test = train_test_split(X_scale, Y, test_size=0.2)\n",
    "X_val, X_test, Y_val, Y_test = train_test_split(X_val_and_test, Y_val_and_test, test_size=0.5)\n",
    "\n",
    "#the training set has 1022 data points while the validation and test set has 219 data points each. The X variables have 10 input features, while the Y variables only has one feature to predict.\n",
    "print(X_train.shape, X_val.shape, X_test.shape, Y_train.shape, Y_val.shape, Y_test.shape)"
   ]
  },
  {
   "cell_type": "code",
   "execution_count": 0,
   "metadata": {
    "colab": {},
    "colab_type": "code",
    "id": "cViCvHCZU0wj"
   },
   "outputs": [],
   "source": [
    "#Build the model and architecture of the deep neural network\n",
    "from keras.models import Sequential\n",
    "from keras.layers import Dense\n",
    "\n",
    "# The models architechture 4 layers, 3 with 32 neurons and activation function = relu function, \n",
    "# the last layer has 1 neuron with an activation function = sigmoid function which returns a value btwn 0 and 1\n",
    "# The input shape/ input_dim = 10 the number of features in the data set\n",
    "model = Sequential([\n",
    "    Dense(32, activation='relu', input_shape=(10,)),\n",
    "    Dense(32, activation='relu'),\n",
    "    Dense(32, activation='relu'),\n",
    "    Dense(1, activation='sigmoid')\n",
    "])"
   ]
  },
  {
   "cell_type": "code",
   "execution_count": 0,
   "metadata": {
    "colab": {},
    "colab_type": "code",
    "id": "fu80jev3VPUe"
   },
   "outputs": [],
   "source": [
    "# loss measuers how well the model did on training , and then tries to improve on it using the optimizer\n",
    "model.compile(optimizer='sgd',\n",
    "              loss='binary_crossentropy',\n",
    "              metrics=['accuracy'])"
   ]
  },
  {
   "cell_type": "code",
   "execution_count": 13,
   "metadata": {
    "colab": {
     "base_uri": "https://localhost:8080/",
     "height": 1000
    },
    "colab_type": "code",
    "id": "eYg91iQPVWK9",
    "outputId": "9a34ab06-a5db-435e-a57d-cb01c5b2f84e"
   },
   "outputs": [
    {
     "name": "stdout",
     "output_type": "stream",
     "text": [
      "Train on 1168 samples, validate on 146 samples\n",
      "Epoch 1/100\n",
      "1168/1168 [==============================] - 0s 124us/step - loss: 0.6986 - accuracy: 0.5034 - val_loss: 0.6963 - val_accuracy: 0.5000\n",
      "Epoch 2/100\n",
      "1168/1168 [==============================] - 0s 39us/step - loss: 0.6949 - accuracy: 0.5051 - val_loss: 0.6928 - val_accuracy: 0.5274\n",
      "Epoch 3/100\n",
      "1168/1168 [==============================] - 0s 39us/step - loss: 0.6916 - accuracy: 0.5531 - val_loss: 0.6897 - val_accuracy: 0.6096\n",
      "Epoch 4/100\n",
      "1168/1168 [==============================] - 0s 43us/step - loss: 0.6886 - accuracy: 0.6139 - val_loss: 0.6865 - val_accuracy: 0.6781\n",
      "Epoch 5/100\n",
      "1168/1168 [==============================] - 0s 41us/step - loss: 0.6856 - accuracy: 0.6498 - val_loss: 0.6833 - val_accuracy: 0.7260\n",
      "Epoch 6/100\n",
      "1168/1168 [==============================] - 0s 41us/step - loss: 0.6823 - accuracy: 0.7209 - val_loss: 0.6798 - val_accuracy: 0.7808\n",
      "Epoch 7/100\n",
      "1168/1168 [==============================] - 0s 40us/step - loss: 0.6790 - accuracy: 0.7226 - val_loss: 0.6762 - val_accuracy: 0.7877\n",
      "Epoch 8/100\n",
      "1168/1168 [==============================] - 0s 49us/step - loss: 0.6756 - accuracy: 0.7346 - val_loss: 0.6725 - val_accuracy: 0.8014\n",
      "Epoch 9/100\n",
      "1168/1168 [==============================] - 0s 42us/step - loss: 0.6718 - accuracy: 0.7646 - val_loss: 0.6685 - val_accuracy: 0.8082\n",
      "Epoch 10/100\n",
      "1168/1168 [==============================] - 0s 40us/step - loss: 0.6679 - accuracy: 0.7705 - val_loss: 0.6644 - val_accuracy: 0.8151\n",
      "Epoch 11/100\n",
      "1168/1168 [==============================] - 0s 40us/step - loss: 0.6639 - accuracy: 0.7885 - val_loss: 0.6598 - val_accuracy: 0.8288\n",
      "Epoch 12/100\n",
      "1168/1168 [==============================] - 0s 42us/step - loss: 0.6597 - accuracy: 0.7911 - val_loss: 0.6552 - val_accuracy: 0.8356\n",
      "Epoch 13/100\n",
      "1168/1168 [==============================] - 0s 40us/step - loss: 0.6553 - accuracy: 0.7954 - val_loss: 0.6502 - val_accuracy: 0.8288\n",
      "Epoch 14/100\n",
      "1168/1168 [==============================] - 0s 43us/step - loss: 0.6505 - accuracy: 0.8014 - val_loss: 0.6451 - val_accuracy: 0.8356\n",
      "Epoch 15/100\n",
      "1168/1168 [==============================] - 0s 43us/step - loss: 0.6455 - accuracy: 0.8014 - val_loss: 0.6392 - val_accuracy: 0.8425\n",
      "Epoch 16/100\n",
      "1168/1168 [==============================] - 0s 45us/step - loss: 0.6400 - accuracy: 0.8039 - val_loss: 0.6330 - val_accuracy: 0.8493\n",
      "Epoch 17/100\n",
      "1168/1168 [==============================] - 0s 41us/step - loss: 0.6339 - accuracy: 0.8082 - val_loss: 0.6260 - val_accuracy: 0.8562\n",
      "Epoch 18/100\n",
      "1168/1168 [==============================] - 0s 43us/step - loss: 0.6273 - accuracy: 0.8057 - val_loss: 0.6187 - val_accuracy: 0.8425\n",
      "Epoch 19/100\n",
      "1168/1168 [==============================] - 0s 41us/step - loss: 0.6199 - accuracy: 0.8099 - val_loss: 0.6101 - val_accuracy: 0.8425\n",
      "Epoch 20/100\n",
      "1168/1168 [==============================] - 0s 41us/step - loss: 0.6117 - accuracy: 0.8151 - val_loss: 0.6007 - val_accuracy: 0.8493\n",
      "Epoch 21/100\n",
      "1168/1168 [==============================] - 0s 42us/step - loss: 0.6028 - accuracy: 0.8159 - val_loss: 0.5906 - val_accuracy: 0.8630\n",
      "Epoch 22/100\n",
      "1168/1168 [==============================] - 0s 48us/step - loss: 0.5929 - accuracy: 0.8219 - val_loss: 0.5801 - val_accuracy: 0.8699\n",
      "Epoch 23/100\n",
      "1168/1168 [==============================] - 0s 41us/step - loss: 0.5822 - accuracy: 0.8168 - val_loss: 0.5677 - val_accuracy: 0.8767\n",
      "Epoch 24/100\n",
      "1168/1168 [==============================] - 0s 48us/step - loss: 0.5704 - accuracy: 0.8211 - val_loss: 0.5533 - val_accuracy: 0.8630\n",
      "Epoch 25/100\n",
      "1168/1168 [==============================] - 0s 42us/step - loss: 0.5576 - accuracy: 0.8228 - val_loss: 0.5394 - val_accuracy: 0.8699\n",
      "Epoch 26/100\n",
      "1168/1168 [==============================] - 0s 41us/step - loss: 0.5441 - accuracy: 0.8271 - val_loss: 0.5229 - val_accuracy: 0.8699\n",
      "Epoch 27/100\n",
      "1168/1168 [==============================] - 0s 47us/step - loss: 0.5296 - accuracy: 0.8348 - val_loss: 0.5068 - val_accuracy: 0.8699\n",
      "Epoch 28/100\n",
      "1168/1168 [==============================] - 0s 41us/step - loss: 0.5143 - accuracy: 0.8330 - val_loss: 0.4896 - val_accuracy: 0.8699\n",
      "Epoch 29/100\n",
      "1168/1168 [==============================] - 0s 43us/step - loss: 0.4973 - accuracy: 0.8450 - val_loss: 0.4739 - val_accuracy: 0.8904\n",
      "Epoch 30/100\n",
      "1168/1168 [==============================] - 0s 40us/step - loss: 0.4815 - accuracy: 0.8373 - val_loss: 0.4514 - val_accuracy: 0.8836\n",
      "Epoch 31/100\n",
      "1168/1168 [==============================] - 0s 39us/step - loss: 0.4641 - accuracy: 0.8425 - val_loss: 0.4341 - val_accuracy: 0.8836\n",
      "Epoch 32/100\n",
      "1168/1168 [==============================] - 0s 38us/step - loss: 0.4484 - accuracy: 0.8442 - val_loss: 0.4159 - val_accuracy: 0.8836\n",
      "Epoch 33/100\n",
      "1168/1168 [==============================] - 0s 41us/step - loss: 0.4328 - accuracy: 0.8553 - val_loss: 0.3973 - val_accuracy: 0.8904\n",
      "Epoch 34/100\n",
      "1168/1168 [==============================] - 0s 40us/step - loss: 0.4190 - accuracy: 0.8493 - val_loss: 0.3866 - val_accuracy: 0.8973\n",
      "Epoch 35/100\n",
      "1168/1168 [==============================] - 0s 38us/step - loss: 0.4060 - accuracy: 0.8587 - val_loss: 0.3689 - val_accuracy: 0.8904\n",
      "Epoch 36/100\n",
      "1168/1168 [==============================] - 0s 42us/step - loss: 0.3933 - accuracy: 0.8545 - val_loss: 0.3576 - val_accuracy: 0.8973\n",
      "Epoch 37/100\n",
      "1168/1168 [==============================] - 0s 40us/step - loss: 0.3826 - accuracy: 0.8630 - val_loss: 0.3448 - val_accuracy: 0.9041\n",
      "Epoch 38/100\n",
      "1168/1168 [==============================] - 0s 40us/step - loss: 0.3730 - accuracy: 0.8630 - val_loss: 0.3323 - val_accuracy: 0.8973\n",
      "Epoch 39/100\n",
      "1168/1168 [==============================] - 0s 39us/step - loss: 0.3640 - accuracy: 0.8613 - val_loss: 0.3206 - val_accuracy: 0.8973\n",
      "Epoch 40/100\n",
      "1168/1168 [==============================] - 0s 40us/step - loss: 0.3548 - accuracy: 0.8673 - val_loss: 0.3130 - val_accuracy: 0.9041\n",
      "Epoch 41/100\n",
      "1168/1168 [==============================] - 0s 39us/step - loss: 0.3473 - accuracy: 0.8690 - val_loss: 0.3061 - val_accuracy: 0.8973\n",
      "Epoch 42/100\n",
      "1168/1168 [==============================] - 0s 40us/step - loss: 0.3406 - accuracy: 0.8707 - val_loss: 0.2964 - val_accuracy: 0.8904\n",
      "Epoch 43/100\n",
      "1168/1168 [==============================] - 0s 44us/step - loss: 0.3343 - accuracy: 0.8716 - val_loss: 0.2914 - val_accuracy: 0.8973\n",
      "Epoch 44/100\n",
      "1168/1168 [==============================] - 0s 43us/step - loss: 0.3294 - accuracy: 0.8733 - val_loss: 0.2842 - val_accuracy: 0.9110\n",
      "Epoch 45/100\n",
      "1168/1168 [==============================] - 0s 44us/step - loss: 0.3262 - accuracy: 0.8716 - val_loss: 0.2796 - val_accuracy: 0.9041\n",
      "Epoch 46/100\n",
      "1168/1168 [==============================] - 0s 41us/step - loss: 0.3202 - accuracy: 0.8716 - val_loss: 0.2780 - val_accuracy: 0.8904\n",
      "Epoch 47/100\n",
      "1168/1168 [==============================] - 0s 47us/step - loss: 0.3172 - accuracy: 0.8767 - val_loss: 0.2723 - val_accuracy: 0.8973\n",
      "Epoch 48/100\n",
      "1168/1168 [==============================] - 0s 46us/step - loss: 0.3128 - accuracy: 0.8759 - val_loss: 0.2696 - val_accuracy: 0.9041\n",
      "Epoch 49/100\n",
      "1168/1168 [==============================] - 0s 41us/step - loss: 0.3110 - accuracy: 0.8733 - val_loss: 0.2653 - val_accuracy: 0.8973\n",
      "Epoch 50/100\n",
      "1168/1168 [==============================] - 0s 40us/step - loss: 0.3069 - accuracy: 0.8827 - val_loss: 0.2641 - val_accuracy: 0.9041\n",
      "Epoch 51/100\n",
      "1168/1168 [==============================] - 0s 41us/step - loss: 0.3050 - accuracy: 0.8818 - val_loss: 0.2610 - val_accuracy: 0.8973\n",
      "Epoch 52/100\n",
      "1168/1168 [==============================] - 0s 40us/step - loss: 0.3013 - accuracy: 0.8793 - val_loss: 0.2589 - val_accuracy: 0.8973\n",
      "Epoch 53/100\n",
      "1168/1168 [==============================] - 0s 48us/step - loss: 0.2985 - accuracy: 0.8827 - val_loss: 0.2569 - val_accuracy: 0.8904\n",
      "Epoch 54/100\n",
      "1168/1168 [==============================] - 0s 40us/step - loss: 0.2972 - accuracy: 0.8801 - val_loss: 0.2583 - val_accuracy: 0.9041\n",
      "Epoch 55/100\n",
      "1168/1168 [==============================] - 0s 40us/step - loss: 0.2961 - accuracy: 0.8836 - val_loss: 0.2548 - val_accuracy: 0.9041\n",
      "Epoch 56/100\n",
      "1168/1168 [==============================] - 0s 40us/step - loss: 0.2934 - accuracy: 0.8861 - val_loss: 0.2527 - val_accuracy: 0.8973\n",
      "Epoch 57/100\n",
      "1168/1168 [==============================] - 0s 42us/step - loss: 0.2922 - accuracy: 0.8836 - val_loss: 0.2529 - val_accuracy: 0.9041\n",
      "Epoch 58/100\n",
      "1168/1168 [==============================] - 0s 41us/step - loss: 0.2903 - accuracy: 0.8861 - val_loss: 0.2507 - val_accuracy: 0.9041\n",
      "Epoch 59/100\n",
      "1168/1168 [==============================] - 0s 41us/step - loss: 0.2879 - accuracy: 0.8870 - val_loss: 0.2491 - val_accuracy: 0.9041\n",
      "Epoch 60/100\n",
      "1168/1168 [==============================] - 0s 39us/step - loss: 0.2885 - accuracy: 0.8853 - val_loss: 0.2477 - val_accuracy: 0.8904\n",
      "Epoch 61/100\n",
      "1168/1168 [==============================] - 0s 43us/step - loss: 0.2862 - accuracy: 0.8870 - val_loss: 0.2469 - val_accuracy: 0.8904\n",
      "Epoch 62/100\n",
      "1168/1168 [==============================] - 0s 40us/step - loss: 0.2841 - accuracy: 0.8878 - val_loss: 0.2488 - val_accuracy: 0.9041\n",
      "Epoch 63/100\n",
      "1168/1168 [==============================] - 0s 41us/step - loss: 0.2838 - accuracy: 0.8904 - val_loss: 0.2485 - val_accuracy: 0.9041\n",
      "Epoch 64/100\n",
      "1168/1168 [==============================] - 0s 45us/step - loss: 0.2815 - accuracy: 0.8913 - val_loss: 0.2459 - val_accuracy: 0.8973\n",
      "Epoch 65/100\n",
      "1168/1168 [==============================] - 0s 41us/step - loss: 0.2796 - accuracy: 0.8921 - val_loss: 0.2449 - val_accuracy: 0.8973\n",
      "Epoch 66/100\n",
      "1168/1168 [==============================] - 0s 43us/step - loss: 0.2785 - accuracy: 0.8930 - val_loss: 0.2461 - val_accuracy: 0.9110\n",
      "Epoch 67/100\n",
      "1168/1168 [==============================] - 0s 41us/step - loss: 0.2772 - accuracy: 0.8904 - val_loss: 0.2441 - val_accuracy: 0.8973\n",
      "Epoch 68/100\n",
      "1168/1168 [==============================] - 0s 44us/step - loss: 0.2765 - accuracy: 0.8930 - val_loss: 0.2436 - val_accuracy: 0.8836\n",
      "Epoch 69/100\n",
      "1168/1168 [==============================] - 0s 46us/step - loss: 0.2775 - accuracy: 0.8887 - val_loss: 0.2414 - val_accuracy: 0.8973\n",
      "Epoch 70/100\n",
      "1168/1168 [==============================] - 0s 45us/step - loss: 0.2749 - accuracy: 0.8896 - val_loss: 0.2413 - val_accuracy: 0.8973\n",
      "Epoch 71/100\n",
      "1168/1168 [==============================] - 0s 41us/step - loss: 0.2736 - accuracy: 0.8921 - val_loss: 0.2433 - val_accuracy: 0.8836\n",
      "Epoch 72/100\n",
      "1168/1168 [==============================] - 0s 41us/step - loss: 0.2735 - accuracy: 0.8921 - val_loss: 0.2406 - val_accuracy: 0.9041\n",
      "Epoch 73/100\n",
      "1168/1168 [==============================] - 0s 43us/step - loss: 0.2732 - accuracy: 0.8938 - val_loss: 0.2401 - val_accuracy: 0.9110\n",
      "Epoch 74/100\n",
      "1168/1168 [==============================] - 0s 42us/step - loss: 0.2723 - accuracy: 0.8887 - val_loss: 0.2434 - val_accuracy: 0.9110\n",
      "Epoch 75/100\n",
      "1168/1168 [==============================] - 0s 42us/step - loss: 0.2686 - accuracy: 0.8913 - val_loss: 0.2423 - val_accuracy: 0.8973\n",
      "Epoch 76/100\n",
      "1168/1168 [==============================] - 0s 43us/step - loss: 0.2703 - accuracy: 0.8930 - val_loss: 0.2375 - val_accuracy: 0.8973\n",
      "Epoch 77/100\n",
      "1168/1168 [==============================] - 0s 41us/step - loss: 0.2697 - accuracy: 0.8913 - val_loss: 0.2379 - val_accuracy: 0.8973\n",
      "Epoch 78/100\n",
      "1168/1168 [==============================] - 0s 42us/step - loss: 0.2687 - accuracy: 0.8930 - val_loss: 0.2429 - val_accuracy: 0.8973\n",
      "Epoch 79/100\n",
      "1168/1168 [==============================] - 0s 43us/step - loss: 0.2688 - accuracy: 0.8913 - val_loss: 0.2366 - val_accuracy: 0.9041\n",
      "Epoch 80/100\n",
      "1168/1168 [==============================] - 0s 46us/step - loss: 0.2684 - accuracy: 0.8878 - val_loss: 0.2357 - val_accuracy: 0.8973\n",
      "Epoch 81/100\n",
      "1168/1168 [==============================] - 0s 44us/step - loss: 0.2680 - accuracy: 0.8930 - val_loss: 0.2385 - val_accuracy: 0.8973\n",
      "Epoch 82/100\n",
      "1168/1168 [==============================] - 0s 42us/step - loss: 0.2672 - accuracy: 0.8913 - val_loss: 0.2358 - val_accuracy: 0.9041\n",
      "Epoch 83/100\n",
      "1168/1168 [==============================] - 0s 43us/step - loss: 0.2671 - accuracy: 0.8904 - val_loss: 0.2355 - val_accuracy: 0.9110\n",
      "Epoch 84/100\n",
      "1168/1168 [==============================] - 0s 46us/step - loss: 0.2659 - accuracy: 0.8930 - val_loss: 0.2475 - val_accuracy: 0.9110\n",
      "Epoch 85/100\n",
      "1168/1168 [==============================] - 0s 41us/step - loss: 0.2680 - accuracy: 0.8904 - val_loss: 0.2337 - val_accuracy: 0.8973\n",
      "Epoch 86/100\n",
      "1168/1168 [==============================] - 0s 41us/step - loss: 0.2644 - accuracy: 0.8904 - val_loss: 0.2429 - val_accuracy: 0.9110\n",
      "Epoch 87/100\n",
      "1168/1168 [==============================] - 0s 42us/step - loss: 0.2642 - accuracy: 0.8921 - val_loss: 0.2334 - val_accuracy: 0.8973\n",
      "Epoch 88/100\n",
      "1168/1168 [==============================] - 0s 49us/step - loss: 0.2650 - accuracy: 0.8955 - val_loss: 0.2325 - val_accuracy: 0.9041\n",
      "Epoch 89/100\n",
      "1168/1168 [==============================] - 0s 47us/step - loss: 0.2639 - accuracy: 0.8913 - val_loss: 0.2336 - val_accuracy: 0.9110\n",
      "Epoch 90/100\n",
      "1168/1168 [==============================] - 0s 41us/step - loss: 0.2622 - accuracy: 0.8938 - val_loss: 0.2359 - val_accuracy: 0.8973\n",
      "Epoch 91/100\n",
      "1168/1168 [==============================] - 0s 40us/step - loss: 0.2617 - accuracy: 0.8973 - val_loss: 0.2329 - val_accuracy: 0.9110\n",
      "Epoch 92/100\n",
      "1168/1168 [==============================] - 0s 41us/step - loss: 0.2621 - accuracy: 0.8938 - val_loss: 0.2384 - val_accuracy: 0.9041\n",
      "Epoch 93/100\n",
      "1168/1168 [==============================] - 0s 41us/step - loss: 0.2617 - accuracy: 0.8913 - val_loss: 0.2320 - val_accuracy: 0.9110\n",
      "Epoch 94/100\n",
      "1168/1168 [==============================] - 0s 44us/step - loss: 0.2610 - accuracy: 0.8964 - val_loss: 0.2311 - val_accuracy: 0.9041\n",
      "Epoch 95/100\n",
      "1168/1168 [==============================] - 0s 42us/step - loss: 0.2604 - accuracy: 0.8930 - val_loss: 0.2328 - val_accuracy: 0.9041\n",
      "Epoch 96/100\n",
      "1168/1168 [==============================] - 0s 41us/step - loss: 0.2605 - accuracy: 0.8921 - val_loss: 0.2320 - val_accuracy: 0.9041\n",
      "Epoch 97/100\n",
      "1168/1168 [==============================] - 0s 45us/step - loss: 0.2598 - accuracy: 0.8955 - val_loss: 0.2304 - val_accuracy: 0.9041\n",
      "Epoch 98/100\n",
      "1168/1168 [==============================] - 0s 43us/step - loss: 0.2590 - accuracy: 0.8930 - val_loss: 0.2402 - val_accuracy: 0.9041\n",
      "Epoch 99/100\n",
      "1168/1168 [==============================] - 0s 42us/step - loss: 0.2615 - accuracy: 0.8973 - val_loss: 0.2294 - val_accuracy: 0.9041\n",
      "Epoch 100/100\n",
      "1168/1168 [==============================] - 0s 41us/step - loss: 0.2586 - accuracy: 0.8964 - val_loss: 0.2295 - val_accuracy: 0.9041\n"
     ]
    }
   ],
   "source": [
    "#Train the model\n",
    "hist = model.fit(X_train, Y_train,\n",
    "          batch_size=32, epochs=100,\n",
    "          validation_data=(X_val, Y_val))"
   ]
  },
  {
   "cell_type": "code",
   "execution_count": 14,
   "metadata": {
    "colab": {
     "base_uri": "https://localhost:8080/",
     "height": 51
    },
    "colab_type": "code",
    "id": "C9x2XY0fVhFV",
    "outputId": "3fceae98-a4de-4c23-ac6c-ede04ca37296"
   },
   "outputs": [
    {
     "name": "stdout",
     "output_type": "stream",
     "text": [
      "146/146 [==============================] - 0s 51us/step\n"
     ]
    },
    {
     "data": {
      "text/plain": [
       "0.8835616707801819"
      ]
     },
     "execution_count": 14,
     "metadata": {
      "tags": []
     },
     "output_type": "execute_result"
    }
   ],
   "source": [
    "#The reason why we have the index 1 after the model.evaluate function is because\n",
    "#the function returns the loss as the first element and the accuracy as the \n",
    "#second element. To only output the accuracy, simply access the second element \n",
    "#(which is indexed by 1, since the first element starts its indexing from 0).\n",
    "model.evaluate(X_test, Y_test)[1]"
   ]
  },
  {
   "cell_type": "code",
   "execution_count": 15,
   "metadata": {
    "colab": {
     "base_uri": "https://localhost:8080/",
     "height": 122
    },
    "colab_type": "code",
    "id": "xtZ7A3DkVvCm",
    "outputId": "125420ba-fdb9-4fd5-8c30-bb075492343f"
   },
   "outputs": [
    {
     "name": "stdout",
     "output_type": "stream",
     "text": [
      "[0, 0, 0, 1, 1, 0, 0, 1, 0, 0, 0, 1, 0, 0, 1, 1, 1, 0, 0, 0, 1, 1, 0, 0, 0, 0, 0, 0, 1, 1, 0, 0, 0, 0, 0, 0, 0, 0, 1, 1, 1, 1, 0, 1, 0, 0, 0, 0, 1, 0, 0, 0, 1, 0, 1, 0, 0, 0, 1, 1, 0, 0, 1, 1, 0, 0, 1, 0, 0, 1, 1, 1, 0, 0, 1, 0, 1, 1, 0, 1, 1, 0, 0, 0, 0, 0, 1, 1, 0, 1, 0, 0, 0, 1, 0, 1, 0, 0, 0, 0, 0, 1, 1, 1, 1, 0, 0, 0, 0, 1, 0, 1, 0, 0, 1, 1, 0, 1, 0, 1, 1, 0, 0, 1, 1, 1, 1, 0, 0, 0, 0, 0, 1, 0, 1, 1, 0, 1, 0, 0, 1, 0, 0, 0, 0, 0]\n",
      "[0 0 0 1 1 1 0 1 0 0 1 1 0 0 1 1 1 1 0 0 1 1 0 1 1 1 0 1 1 1 0 0 1 0 0 0 0\n",
      " 0 1 1 1 1 0 1 0 0 0 0 1 1 0 0 1 1 1 1 0 0 1 0 0 1 1 1 0 0 1 1 0 1 1 1 0 0\n",
      " 1 0 1 1 0 1 1 0 0 1 1 0 1 1 0 1 0 1 0 1 0 1 0 0 0 0 0 1 1 1 1 0 0 0 0 1 0\n",
      " 1 1 0 1 1 0 1 0 1 1 0 0 1 1 1 1 1 1 1 0 0 1 0 1 1 0 1 0 0 1 0 0 0 0 0]\n"
     ]
    }
   ],
   "source": [
    "#Make a prediction\n",
    "prediction = model.predict(X_test)\n",
    "prediction  = [1 if y>=0.85 else 0 for y in prediction] #Threshold\n",
    "print(prediction)\n",
    "print(Y_test)"
   ]
  },
  {
   "cell_type": "code",
   "execution_count": 16,
   "metadata": {
    "colab": {
     "base_uri": "https://localhost:8080/",
     "height": 34
    },
    "colab_type": "code",
    "id": "2Iw_QKZRw4rh",
    "outputId": "ade40705-fdd3-45ee-d362-b06639bec290"
   },
   "outputs": [
    {
     "data": {
      "text/plain": [
       "dict_keys(['val_loss', 'val_accuracy', 'loss', 'accuracy'])"
      ]
     },
     "execution_count": 16,
     "metadata": {
      "tags": []
     },
     "output_type": "execute_result"
    }
   ],
   "source": [
    "hist.history.keys()"
   ]
  },
  {
   "cell_type": "code",
   "execution_count": 17,
   "metadata": {
    "colab": {
     "base_uri": "https://localhost:8080/",
     "height": 295
    },
    "colab_type": "code",
    "id": "JCCtskOlW3pt",
    "outputId": "9eeb5256-e3d0-4e7c-9e1b-a695c23be517"
   },
   "outputs": [
    {
     "data": {
      "image/png": "[encoded data removed]",
      "text/plain": [
       "<Figure size 432x288 with 1 Axes>"
      ]
     },
     "metadata": {
      "needs_background": "light",
      "tags": []
     },
     "output_type": "display_data"
    }
   ],
   "source": [
    "#visualize the training loss and the validation loss to see if the model is overfitting\n",
    "plt.plot(hist.history['loss'])\n",
    "plt.plot(hist.history['val_loss'])\n",
    "plt.title('Model loss')\n",
    "plt.ylabel('Loss')\n",
    "plt.xlabel('Epoch')\n",
    "plt.legend(['Train', 'Val'], loc='upper right')\n",
    "plt.show()\n"
   ]
  },
  {
   "cell_type": "code",
   "execution_count": 18,
   "metadata": {
    "colab": {
     "base_uri": "https://localhost:8080/",
     "height": 295
    },
    "colab_type": "code",
    "id": "IYxMjqT3W5-D",
    "outputId": "0823d3cc-a580-47af-a4d0-4b144c65643a"
   },
   "outputs": [
    {
     "data": {
      "image/png": "[encoded data removed]",
      "text/plain": [
       "<Figure size 432x288 with 1 Axes>"
      ]
     },
     "metadata": {
      "needs_background": "light",
      "tags": []
     },
     "output_type": "display_data"
    }
   ],
   "source": [
    "#visualize the training accuracy and the validation accuracy to see if the model is overfitting\n",
    "plt.plot(hist.history['accuracy'])\n",
    "plt.plot(hist.history['val_accuracy'])\n",
    "plt.title('Model accuracy')\n",
    "plt.ylabel('Accuracy')\n",
    "plt.xlabel('Epoch')\n",
    "plt.legend(['Train', 'Val'], loc='lower right')\n",
    "plt.show()"
   ]
  }
 ],
 "metadata": {
  "colab": {
   "collapsed_sections": [],
   "name": "Neural_Networks.ipynb",
   "provenance": [],
   "toc_visible": true
  },
  "kernelspec": {
   "display_name": "Python 3",
   "language": "python",
   "name": "python3"
  },
  "language_info": {
   "codemirror_mode": {
    "name": "ipython",
    "version": 3
   },
   "file_extension": ".py",
   "mimetype": "text/x-python",
   "name": "python",
   "nbconvert_exporter": "python",
   "pygments_lexer": "ipython3",
   "version": "3.7.3"
  }
 },
 "nbformat": 4,
 "nbformat_minor": 1
}
